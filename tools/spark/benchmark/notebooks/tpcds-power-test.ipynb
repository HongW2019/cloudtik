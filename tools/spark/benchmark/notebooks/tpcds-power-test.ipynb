{
 "cells": [
  {
   "cell_type": "markdown",
   "id": "cc83b229-210d-4803-ab6d-fd509c1411f2",
   "metadata": {},
   "source": [
    "### TPC-DS Power Test"
   ]
  },
  {
   "cell_type": "markdown",
   "id": "8721a87e-9e14-47d6-b5c9-ae4f54fcb52f",
   "metadata": {},
   "source": [
    "#### Add spark-sql-perf jar to Spark class path\n",
    "\n",
    "Replace below with your cluster's spark-sql-perf_2.12-0.5.1-SNAPSHOT.jar path"
   ]
  },
  {
   "cell_type": "code",
   "execution_count": null,
   "id": "0763868b-05a8-456a-99f4-7eadc945ff4b",
   "metadata": {},
   "outputs": [],
   "source": [
    "%%init_spark\n",
    "launcher.conf.set(\"spark.driver.extraClassPath\", \"/home/ubuntu/runtime/benchmark-tools/spark-sql-perf/target/scala-2.12/spark-sql-perf_2.12-0.5.1-SNAPSHOT.jar\")\n",
    "launcher.conf.set(\"spark.executor.extraClassPath\", \"/home/ubuntu/runtime/benchmark-tools/spark-sql-perf/target/scala-2.12/spark-sql-perf_2.12-0.5.1-SNAPSHOT.jar\")"
   ]
  },
  {
   "cell_type": "code",
   "execution_count": null,
   "id": "55610511-62d5-4f72-87c7-bb39ece38873",
   "metadata": {},
   "outputs": [],
   "source": [
    "val scaleFactor = \"1\"           // data scale 1GB\n",
    "val iterations = 1              // how many times to run the whole set of queries.\n",
    "val format = \"parquet\"          // support parquer or orc\n",
    "// support s3a://s3_bucket, gs://gs_bucket\n",
    "// wasbs://container@storage_account.blob.core.windows.net\n",
    "// abfs://container@storage_account.dfs.core.windows.net\n",
    "// hdfs:///user/livy\n",
    "// replace fsdir with your file system and bucket \n",
    "val fsdir = \"s3a://s3_bucket_name\"\n",
    "val partitionTables = true      // create partition tables\n",
    "val query_filter = Seq()        // Seq() == all queries\n",
    "// val query_filter = Seq(\"q1-v2.4\", \"q2-v2.4\") // run subset of queries\n",
    "val randomizeQueries = false    // run queries in a random order. Recommended for parallel runs.\n"
   ]
  },
  {
   "cell_type": "code",
   "execution_count": null,
   "id": "90da2a2b-2b64-4ff9-900f-2a25aa6396e9",
   "metadata": {},
   "outputs": [],
   "source": [
    "// detailed results will be written as JSON to this location.\n",
    "val data_path= s\"${fsdir}/shared/data/tpcds/tpcds_${format}/${scaleFactor}\"\n",
    "var resultLocation = s\"${fsdir}/shared/data/results/tpcds_${format}/${scaleFactor}/\"\n",
    "var databaseName = s\"tpcds_${format}_scale_${scaleFactor}_db\"\n",
    "val use_arrow = false            // when you want to use gazella_plugin to run TPC-DS, you need to set it true.\n",
    "\n",
    "if (use_arrow){\n",
    "    resultLocation = s\"${fsdir}/shared/data/results/tpcds_arrow/${scaleFactor}/\"\n",
    "    val tables = Seq(\"call_center\", \"catalog_page\", \"catalog_returns\", \"catalog_sales\", \"customer\", \"customer_address\", \"customer_demographics\", \"date_dim\", \"household_demographics\", \"income_band\", \"inventory\", \"item\", \"promotion\", \"reason\", \"ship_mode\", \"store\", \"store_returns\", \"store_sales\", \"time_dim\", \"warehouse\", \"web_page\", \"web_returns\", \"web_sales\", \"web_site\")\n",
    "    if (spark.catalog.databaseExists(s\"$databaseName\")) {\n",
    "        println(s\"$databaseName has exists!\")\n",
    "    }else{\n",
    "        spark.sql(s\"create database if not exists $databaseName\").show\n",
    "        spark.sql(s\"use $databaseName\").show\n",
    "        for (table <- tables) {\n",
    "            if (spark.catalog.tableExists(s\"$table\")){\n",
    "                println(s\"$table has exists!\")\n",
    "            }else{\n",
    "                spark.catalog.createTable(s\"$table\", s\"$data_path/$table\", \"arrow\")\n",
    "            }\n",
    "        }\n",
    "        if (partitionTables) {\n",
    "            for (table <- tables) {\n",
    "                try{\n",
    "                    spark.sql(s\"ALTER TABLE $table RECOVER PARTITIONS\").show\n",
    "                }catch{\n",
    "                        case e: Exception => println(e)\n",
    "                }\n",
    "            }\n",
    "        }\n",
    "    }\n",
    "} else {\n",
    "    // Check whether the database is created, we create external tables if not\n",
    "    if (spark.catalog.databaseExists(s\"$databaseName\")) {\n",
    "        println(s\"Using existing $databaseName\")\n",
    "    } else {\n",
    "        import com.databricks.spark.sql.perf.tpcds.TPCDSTables\n",
    "\n",
    "        println(s\"$databaseName doesn't exist. Creating...\")\n",
    "        val tables = new TPCDSTables(spark.sqlContext, \"\", s\"${scaleFactor}\", false)\n",
    "        tables.createExternalTables(data_path, format, databaseName, overwrite = true, discoverPartitions = partitionTables)\n",
    "    }\n",
    "}\n",
    "\n",
    "val timeout = 60 // timeout in hours\n"
   ]
  },
  {
   "cell_type": "code",
   "execution_count": null,
   "id": "a7f3f9f5-f157-410f-8b70-f9255941db38",
   "metadata": {},
   "outputs": [],
   "source": [
    "// COMMAND ----------\n",
    "// Spark configuration\n",
    "spark.conf.set(\"spark.sql.broadcastTimeout\", \"10000\") // good idea for Q14, Q88.\n",
    "\n",
    "// ... + any other configuration tuning\n",
    "// COMMAND ----------\n"
   ]
  },
  {
   "cell_type": "code",
   "execution_count": null,
   "id": "4a8a6307-a65d-4b76-bdd8-f76cc4d74afd",
   "metadata": {},
   "outputs": [],
   "source": [
    "sql(s\"use $databaseName\")\n",
    "import com.databricks.spark.sql.perf.tpcds.TPCDS\n",
    "\n",
    "val tpcds = new TPCDS (sqlContext = spark.sqlContext)\n",
    "def queries = {\n",
    "  val filtered_queries = query_filter match {\n",
    "    case Seq() => tpcds.tpcds2_4Queries\n",
    "    case _ => tpcds.tpcds2_4Queries.filter(q => query_filter.contains(q.name))\n",
    "  }\n",
    "  if (randomizeQueries) scala.util.Random.shuffle(filtered_queries) else filtered_queries\n",
    "}\n",
    "val experiment = tpcds.runExperiment(\n",
    "  queries,\n",
    "  iterations = iterations,\n",
    "  resultLocation = resultLocation,\n",
    "  tags = Map(\"runtype\" -> \"benchmark\", \"database\" -> databaseName, \"scale_factor\" -> scaleFactor))\n",
    "\n",
    "println(experiment.toString)\n",
    "experiment.waitForFinish(timeout*60*60)\n",
    "\n",
    "val res=experiment.getCurrentResults // or: spark.read.json(resultLocation).filter(\"timestamp = 1429132621024\")\n",
    "  .withColumn(\"Name\", substring(col(\"name\"), 1, 100))\n",
    "  .withColumn(\"Runtime_sec\", round(((col(\"parsingTime\") + col(\"analysisTime\") + col(\"optimizationTime\") + col(\"planningTime\") + col(\"executionTime\")) / 1000.0), 2))\n",
    "  .select('Name, 'Runtime_sec)\n",
    "res.show(104)\n",
    "\n",
    "val sumRuntime: Double = res.agg(sum(\"Runtime_sec\").cast(\"double\")).first.getDouble(0)\n",
    "println(s\"Total time: ${sumRuntime}s\")\n"
   ]
  }
 ],
 "metadata": {
  "kernelspec": {
   "display_name": "spylon-kernel",
   "language": "scala",
   "name": "spylon-kernel"
  },
  "language_info": {
   "codemirror_mode": "text/x-scala",
   "file_extension": ".scala",
   "help_links": [
    {
     "text": "MetaKernel Magics",
     "url": "https://metakernel.readthedocs.io/en/latest/source/README.html"
    }
   ],
   "mimetype": "text/x-scala",
   "name": "scala",
   "pygments_lexer": "scala",
   "version": "0.4.1"
  }
 },
 "nbformat": 4,
 "nbformat_minor": 5
}
